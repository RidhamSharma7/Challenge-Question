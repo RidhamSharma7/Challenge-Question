{
  "nbformat": 4,
  "nbformat_minor": 0,
  "metadata": {
    "colab": {
      "provenance": [],
      "authorship_tag": "ABX9TyNBm2Ivrzlk62sTeq/n9ZlO",
      "include_colab_link": true
    },
    "kernelspec": {
      "name": "python3",
      "display_name": "Python 3"
    },
    "language_info": {
      "name": "python"
    }
  },
  "cells": [
    {
      "cell_type": "markdown",
      "metadata": {
        "id": "view-in-github",
        "colab_type": "text"
      },
      "source": [
        "<a href=\"https://colab.research.google.com/github/RidhamSharma7/Challenge-Question/blob/main/MINIproject_2_Challenge_Q.ipynb\" target=\"_parent\"><img src=\"https://colab.research.google.com/assets/colab-badge.svg\" alt=\"Open In Colab\"/></a>"
      ]
    },
    {
      "cell_type": "code",
      "execution_count": 20,
      "metadata": {
        "colab": {
          "base_uri": "https://localhost:8080/"
        },
        "id": "dM5wh7GusolM",
        "outputId": "260c7875-8ef6-495b-f1c5-ebce6b2be1f5"
      },
      "outputs": [
        {
          "output_type": "stream",
          "name": "stdout",
          "text": [
            "['1', '2', '3', 'Ram', 'aman', 'shyam']\n"
          ]
        }
      ],
      "source": [
        "L= [\"Ram\", \"shyam\",  \"aman\",1,2,3]\n",
        "L=[str(i) for i in L]  # converting all elements in string and then sort n print\n",
        "L.sort()\n",
        "print(L)\n",
        "\n",
        "\n"
      ]
    }
  ]
}